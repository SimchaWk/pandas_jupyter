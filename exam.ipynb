{
 "cells": [
  {
   "cell_type": "code",
   "execution_count": null,
   "id": "6a9e9f5945c1b169",
   "metadata": {},
   "outputs": [],
   "source": []
  },
  {
   "cell_type": "markdown",
   "id": "2b8e938eb34b0315",
   "metadata": {},
   "source": [
    "# Exercise: Exploratory Data Analysis with Pandas\n",
    "## Instructions\n",
    "1. Data Collection\n",
    "    - Search and collect data on the following: (1993 - 2023)\n",
    "        - Israel interest tares\n",
    "        - US interest rates\n",
    "        - USD to ILS exchange rates\n",
    "    - For each dataset, create a pandas DataFrame with the following columns:\n",
    "        - Year\n",
    "        - Month\n",
    "        - Current_Rate (Interest rate or exchange rate for that month)\n",
    "        - Change_From_Last_Month (Difference in Current_Rate from the previous month)\n",
    "        - Optional: You may include additional columns if you find them useful (e.g., Change_Percentage, Date).\n",
    "\n"
   ]
  },
  {
   "cell_type": "code",
   "execution_count": 1,
   "id": "17a7b132e53c5faa",
   "metadata": {},
   "outputs": [],
   "source": [
    "import pandas as pd"
   ]
  },
  {
   "cell_type": "code",
   "execution_count": 47,
   "id": "8fb38157aa6333f3",
   "metadata": {},
   "outputs": [
    {
     "name": "stdout",
     "output_type": "stream",
     "text": [
      "FEDFUNDS:\n",
      "   Year  Month  Current_Rate  Change_From_Last_Month\n",
      "0  1993      1          3.02                     NaN\n",
      "1  1993      2          3.03                    0.01\n",
      "2  1993      3          3.07                    0.04\n",
      "3  1993      4          2.96                   -0.11\n",
      "4  1993      5          3.00                    0.04\n",
      "\n",
      "Israel Interest:\n",
      "   Year  Month  Current_Rate  Change_From_Last_Month\n",
      "0  1994      1         11.78                     NaN\n",
      "1  1994      2         11.87                    0.09\n",
      "2  1994      3         11.87                    0.00\n",
      "3  1994      4         11.87                    0.00\n",
      "4  1994      5         12.24                    0.37\n",
      "\n",
      "Exchange Rates:\n",
      "   Year  Month  Current_Rate  Change_From_Last_Month\n",
      "0  1993      1         2.765                  -0.031\n",
      "1  1993      1         2.765                   0.000\n",
      "2  1993      1         2.760                  -0.005\n",
      "3  1993      1         2.764                   0.004\n",
      "4  1993      1         2.753                  -0.011\n"
     ]
    }
   ],
   "source": [
    "# read CSV files\n",
    "fed_funds_df = pd.read_csv('FEDFUNDS.csv')\n",
    "israel_interest_df = pd.read_csv('israel_Interest.csv')\n",
    "additional_rates_df = pd.read_csv('additional_rates_he_USD.csv')\n",
    "\n",
    "# FEDFUNDS\n",
    "fed_funds_df['DATE'] = pd.to_datetime(fed_funds_df['DATE'], format='%d/%m/%Y')\n",
    "fed_funds_df['Year'] = fed_funds_df['DATE'].dt.year\n",
    "fed_funds_df['Month'] = fed_funds_df['DATE'].dt.month\n",
    "fed_funds_df['Current_Rate'] = fed_funds_df['FEDFUNDS']\n",
    "fed_funds_df['Change_From_Last_Month'] = fed_funds_df['Current_Rate'].diff()\n",
    "\n",
    "fed_funds_df = fed_funds_df[['Year', 'Month', 'Current_Rate', 'Change_From_Last_Month']]\n",
    "\n",
    "# israel_interest\n",
    "israel_interest_df[['Year', 'Month']] = israel_interest_df['Time_period'].str.split('-', expand=True)\n",
    "israel_interest_df['Year'] = israel_interest_df['Year'].astype(int)\n",
    "israel_interest_df['Month'] = israel_interest_df['Month'].astype(int)\n",
    "israel_interest_df['Current_Rate'] = israel_interest_df['Interest']\n",
    "israel_interest_df['Change_From_Last_Month'] = israel_interest_df['Current_Rate'].diff()\n",
    "\n",
    "israel_interest_df = israel_interest_df[['Year', 'Month', 'Current_Rate', 'Change_From_Last_Month']]\n",
    "\n",
    "# additional_rates\n",
    "additional_rates_df['date'] = pd.to_datetime(additional_rates_df['date'], format='%d/%m/%Y')\n",
    "additional_rates_df['Year'] = additional_rates_df['date'].dt.year\n",
    "additional_rates_df['Month'] = additional_rates_df['date'].dt.month\n",
    "additional_rates_df['Current_Rate'] = additional_rates_df['USD']\n",
    "additional_rates_df['Change_From_Last_Month'] = additional_rates_df['Current_Rate'].diff()\n",
    "\n",
    "additional_rates_df = additional_rates_df[['Year', 'Month', 'Current_Rate', 'Change_From_Last_Month']]\n",
    "additional_rates_df = additional_rates_df.sort_values(by=['Year', 'Month']).reset_index(drop=True)\n",
    "\n",
    "print(\"FEDFUNDS:\")\n",
    "print(fed_funds_df.head())\n",
    "\n",
    "print(\"\\nIsrael Interest:\")\n",
    "print(israel_interest_df.head())\n",
    "\n",
    "print(\"\\nExchange Rates:\")\n",
    "print(additional_rates_df.head())"
   ]
  },
  {
   "cell_type": "markdown",
   "id": "71323c7318598fbb",
   "metadata": {},
   "source": [
    "## Part A: Single DataFrame Analysis \n",
    "1. Display the first 5 rows of the US interest rates DataFrame.\n",
    "\n",
    "2. Calculate the average Israeli interest rate over the period covered by your data.\n",
    "\n",
    "3. Find the month and year when the USD to ILS exchange rate had the highest increase from the previous month.\n",
    "\n",
    "4. Determine the total number of months where the US interest rate decreased compared to the previous month.\n",
    "\n",
    "5. Add a new column to the Israeli interest rates DataFrame called Change_Percentage, representing the percentage change from the previous month."
   ]
  },
  {
   "cell_type": "code",
   "execution_count": 48,
   "id": "399887d7fba8803a",
   "metadata": {
    "ExecuteTime": {
     "end_time": "2024-11-07T00:06:28.045691Z",
     "start_time": "2024-11-07T00:06:28.043900Z"
    }
   },
   "outputs": [
    {
     "name": "stdout",
     "output_type": "stream",
     "text": [
      "First 5 rows of the US interest rates DataFrame:\n",
      "   Year  Month  Current_Rate  Change_From_Last_Month\n",
      "0  1993      1          3.02                     NaN\n",
      "1  1993      2          3.03                    0.01\n",
      "2  1993      3          3.07                    0.04\n",
      "3  1993      4          2.96                   -0.11\n",
      "4  1993      5          3.00                    0.04\n"
     ]
    }
   ],
   "source": [
    "# A - 1\n",
    "# your code here\n",
    "print(\"First 5 rows of the US interest rates DataFrame:\")\n",
    "print(fed_funds_df.head(5))"
   ]
  },
  {
   "cell_type": "code",
   "execution_count": 50,
   "id": "91d022cc344514de",
   "metadata": {
    "ExecuteTime": {
     "end_time": "2024-11-07T00:06:49.986484Z",
     "start_time": "2024-11-07T00:06:49.984372Z"
    }
   },
   "outputs": [
    {
     "name": "stdout",
     "output_type": "stream",
     "text": [
      "\n",
      "Average Israeli interest rate over the period covered by your data: 6.391\n"
     ]
    }
   ],
   "source": [
    "# A - 2\n",
    "# your code here\n",
    "avg_israeli_interest = israel_interest_df['Current_Rate'].mean().round(3)\n",
    "print(\"\\nAverage Israeli interest rate over the period covered by your data:\", avg_israeli_interest)"
   ]
  },
  {
   "cell_type": "code",
   "execution_count": 51,
   "id": "c29c363cd4e9a279",
   "metadata": {
    "ExecuteTime": {
     "end_time": "2024-11-07T00:06:53.867357Z",
     "start_time": "2024-11-07T00:06:53.865505Z"
    }
   },
   "outputs": [
    {
     "name": "stdout",
     "output_type": "stream",
     "text": [
      "\n",
      "The month and year when the USD to ILS exchange rate had the highest increase from the previous month:\n",
      "Year                      2020.000\n",
      "Month                        3.000\n",
      "Change_From_Last_Month       0.144\n",
      "Name: 6858, dtype: float64\n"
     ]
    }
   ],
   "source": [
    "# A - 3\n",
    "# your code here\n",
    "max_increase_index = additional_rates_df['Change_From_Last_Month'].idxmax()\n",
    "max_increase_row = additional_rates_df.loc[max_increase_index, ['Year', 'Month', 'Change_From_Last_Month']]\n",
    "print(\"\\nThe month and year when the USD to ILS exchange rate had the highest increase from the previous month:\")\n",
    "print(max_increase_row)"
   ]
  },
  {
   "cell_type": "code",
   "execution_count": 52,
   "id": "c4c8ec122d04672",
   "metadata": {
    "ExecuteTime": {
     "end_time": "2024-11-07T00:06:56.963009Z",
     "start_time": "2024-11-07T00:06:56.960675Z"
    }
   },
   "outputs": [
    {
     "name": "stdout",
     "output_type": "stream",
     "text": [
      "\n",
      "Total number of months where the US interest rate decreased compared to the previous month:\n",
      "123\n"
     ]
    }
   ],
   "source": [
    "# A - 4\n",
    "# your code here\n",
    "num_decreased_months = fed_funds_df[fed_funds_df['Change_From_Last_Month'] < 0].shape[0]\n",
    "print(\"\\nTotal number of months where the US interest rate decreased compared to the previous month:\")\n",
    "print(num_decreased_months)"
   ]
  },
  {
   "cell_type": "code",
   "execution_count": 53,
   "id": "49115d5dbff52532",
   "metadata": {},
   "outputs": [
    {
     "name": "stdout",
     "output_type": "stream",
     "text": [
      "\n",
      "Representing the percentage change from the previous month:\n",
      "   Year  Month  Current_Rate  Change_From_Last_Month  Change_Percentage\n",
      "0  1994      1         11.78                     NaN                NaN\n",
      "1  1994      2         11.87                    0.09              0.764\n",
      "2  1994      3         11.87                    0.00              0.000\n",
      "3  1994      4         11.87                    0.00              0.000\n",
      "4  1994      5         12.24                    0.37              3.117\n"
     ]
    }
   ],
   "source": [
    "# A - 5\n",
    "# your code here\n",
    "israel_interest_df['Change_Percentage'] = (israel_interest_df['Current_Rate'].pct_change() * 100).round(3)\n",
    "print(\"\\nRepresenting the percentage change from the previous month:\")\n",
    "print(israel_interest_df.head())"
   ]
  },
  {
   "cell_type": "markdown",
   "id": "37324394ba9e1454",
   "metadata": {},
   "source": [
    "## Part B: Merging DataFrames\n",
    "1. Merge the US and Israeli interest rates DataFrames on Year and Month.\n",
    "\n",
    "2. In the merged DataFrame, create a new column Rate_Difference that shows the difference between the Israeli and US interest rates for each month.\n",
    "\n",
    "3. Identify all months when the Israeli interest rate was at least 1% higher than the US interest rate - IH (Israeli Higher).\n",
    "Identify all months when the US interest rate was at least 1% higher than the Israeli interest rate - UH (US Higher).\n",
    "Identify all months when the interest rates were within 1% of each other - N (Near)\n",
    "make a new column called Rate_Comparison with the following values: IH, UH, or N.\n",
    "\n",
    "4. Merge the exchange rate DataFrame with the merged interest rates DataFrame.\n",
    "\n",
    "5. After merging all three DataFrames, find the correlation between the Rate_Difference and the Current_Rate of the exchange rate.\n",
    "hint: find the connection between the difference in interest rates and the exchange rates, use any method you think is appropriate.\n",
    "provide an explanation of the results (in Hebrew) - at least 2 rows of text + a proof of the connection(some output) you found.\n"
   ]
  },
  {
   "cell_type": "code",
   "execution_count": 54,
   "id": "f6fcdba8d4d32d73",
   "metadata": {
    "ExecuteTime": {
     "end_time": "2024-11-07T00:06:02.968903Z",
     "start_time": "2024-11-07T00:06:02.967090Z"
    }
   },
   "outputs": [
    {
     "name": "stdout",
     "output_type": "stream",
     "text": [
      "Merge the US and Israeli interest rates DataFrames on Year and Month:\n",
      "   Year  Month  Current_Rate_US  Current_Rate_IL\n",
      "0  1994      1             3.05            11.78\n",
      "1  1994      2             3.25            11.87\n",
      "2  1994      3             3.34            11.87\n",
      "3  1994      4             3.56            11.87\n",
      "4  1994      5             4.01            12.24\n"
     ]
    }
   ],
   "source": [
    "# B - 1\n",
    "# your code here\n",
    "merged_rates_df = pd.merge(fed_funds_df, israel_interest_df, on=['Year', 'Month'], suffixes=('_US', '_IL'))\n",
    "print(\"Merge the US and Israeli interest rates DataFrames on Year and Month:\")\n",
    "print(merged_rates_df[['Year', 'Month', 'Current_Rate_US', 'Current_Rate_IL']].head())"
   ]
  },
  {
   "cell_type": "code",
   "execution_count": 62,
   "id": "7f18978fee56c6d6",
   "metadata": {
    "ExecuteTime": {
     "end_time": "2024-11-07T00:06:08.105790Z",
     "start_time": "2024-11-07T00:06:08.103620Z"
    }
   },
   "outputs": [
    {
     "name": "stdout",
     "output_type": "stream",
     "text": [
      "\n",
      "Difference between the Israeli and US interest rates for each month:\n",
      "   Year  Month  Current_Rate_US  Current_Rate_IL  Rate_Difference\n",
      "0  1994      1             3.05            11.78             8.73\n",
      "1  1994      2             3.25            11.87             8.62\n",
      "2  1994      3             3.34            11.87             8.53\n",
      "3  1994      4             3.56            11.87             8.31\n",
      "4  1994      5             4.01            12.24             8.23\n"
     ]
    }
   ],
   "source": [
    "# B - 2\n",
    "# your code here\n",
    "merged_rates_df['Rate_Difference'] = merged_rates_df['Current_Rate_IL'] - merged_rates_df['Current_Rate_US']\n",
    "print(\"\\nDifference between the Israeli and US interest rates for each month:\")\n",
    "print(merged_rates_df[['Year', 'Month', 'Current_Rate_US', 'Current_Rate_IL', 'Rate_Difference']].head())"
   ]
  },
  {
   "cell_type": "code",
   "execution_count": 56,
   "id": "c6dcf835650149bf",
   "metadata": {
    "ExecuteTime": {
     "end_time": "2024-11-07T00:06:10.259079Z",
     "start_time": "2024-11-07T00:06:10.257004Z"
    }
   },
   "outputs": [
    {
     "name": "stdout",
     "output_type": "stream",
     "text": [
      "\n",
      "A new column called Rate_Comparison with the following values: IH, UH, or N:\n",
      "   Year  Month  Rate_Difference Rate_Comparison\n",
      "0  1994      1             8.73              IH\n",
      "1  1994      2             8.62              IH\n",
      "2  1994      3             8.53              IH\n",
      "3  1994      4             8.31              IH\n",
      "4  1994      5             8.23              IH\n"
     ]
    }
   ],
   "source": [
    "# B - 3\n",
    "# your code here\n",
    "merged_rates_df['Rate_Comparison'] = merged_rates_df['Rate_Difference'].apply(\n",
    "    lambda x: 'IH' if x >= 1 else 'UH' if x <= -1 else 'N'\n",
    ")\n",
    "print('\\nA new column called Rate_Comparison with the following values: IH, UH, or N:')\n",
    "print(merged_rates_df[['Year', 'Month', 'Rate_Difference', 'Rate_Comparison']].head())"
   ]
  },
  {
   "cell_type": "code",
   "execution_count": 57,
   "id": "3145d351d7cbe982",
   "metadata": {
    "ExecuteTime": {
     "end_time": "2024-11-07T00:06:12.381548Z",
     "start_time": "2024-11-07T00:06:12.379873Z"
    }
   },
   "outputs": [
    {
     "name": "stdout",
     "output_type": "stream",
     "text": [
      "\n",
      "Merge the exchange rate DataFrame with the merged interest rates DataFrame:\n",
      "   Year  Month  Current_Rate_US  Change_From_Last_Month_US  Current_Rate_IL  \\\n",
      "0  1994      1             3.05                       0.09            11.78   \n",
      "1  1994      1             3.05                       0.09            11.78   \n",
      "2  1994      1             3.05                       0.09            11.78   \n",
      "3  1994      1             3.05                       0.09            11.78   \n",
      "4  1994      1             3.05                       0.09            11.78   \n",
      "\n",
      "   Change_From_Last_Month_IL  Change_Percentage  Rate_Difference  \\\n",
      "0                        NaN                NaN             8.73   \n",
      "1                        NaN                NaN             8.73   \n",
      "2                        NaN                NaN             8.73   \n",
      "3                        NaN                NaN             8.73   \n",
      "4                        NaN                NaN             8.73   \n",
      "\n",
      "  Rate_Comparison  Current_Rate  Change_From_Last_Month  \n",
      "0              IH         2.987                   0.011  \n",
      "1              IH         2.996                   0.009  \n",
      "2              IH         2.996                   0.000  \n",
      "3              IH         2.999                   0.003  \n",
      "4              IH         2.985                  -0.014  \n"
     ]
    }
   ],
   "source": [
    "# B - 4\n",
    "# your code here\n",
    "merged_full_df = pd.merge(merged_rates_df, additional_rates_df, on=['Year', 'Month'])\n",
    "print('\\nMerge the exchange rate DataFrame with the merged interest rates DataFrame:')\n",
    "print(merged_full_df.head())"
   ]
  },
  {
   "cell_type": "code",
   "execution_count": 67,
   "id": "fe04eba74c68ab35",
   "metadata": {
    "ExecuteTime": {
     "end_time": "2024-11-07T00:06:37.878612Z",
     "start_time": "2024-11-07T00:06:37.876775Z"
    }
   },
   "outputs": [
    {
     "name": "stdout",
     "output_type": "stream",
     "text": [
      "\n",
      "        \n",
      "Correlation between Rate_Difference & Current_Rate(exchange rate):\n",
      "        בבדיקת הקורלציה בין פערי הריבית בארה\"ב-בישראל לבין שער החליפין, התקבלו ערכי קורלציה נמוכים מאוד, \n",
      "מה שאומר שאין בהכרח קשר מהותי בין השינויים בריבית בין שתי המדינות לבין שער המטבע באותו חודש. \n",
      "    \n",
      "-0.15962408490127086\n"
     ]
    }
   ],
   "source": [
    "# B - 5\n",
    "# your code here\n",
    "correlation = merged_full_df['Rate_Difference'].corr(merged_full_df['Current_Rate'])\n",
    "print(\"\"\"\n",
    "        \\nCorrelation between Rate_Difference & Current_Rate(exchange rate):\n",
    "        בבדיקת הקורלציה בין פערי הריבית בארה\"ב-בישראל לבין שער החליפין, התקבלו ערכי קורלציה נמוכים מאוד, \\nמה שאומר שאין בהכרח קשר מהותי בין השינויים בריבית בין שתי המדינות לבין שער המטבע באותו חודש. \n",
    "    \"\"\")\n",
    "print(correlation)"
   ]
  },
  {
   "cell_type": "markdown",
   "id": "22213f81bdf06965",
   "metadata": {},
   "source": [
    "## Part C: Analyzing Relationships Between DataFrames\n",
    "1. Analyze whether increases in US interest rates are associated with increases or decreases in the USD to ILS exchange rate in the same month.\n",
    "\n",
    "2. Determine if changes in the Israeli interest rate have a stronger impact on the exchange rate than changes in the US interest rate.\n",
    "\n",
    "3. Find any time lags in the effect of interest rate changes on the exchange rate. For example, does a change in US interest rates affect the exchange rate in the following month?\n",
    "(כלומר- האם כשיש שינוי בריבית כלשהי - האם מייד יש שינוי בשער ההמרה? או שיש דיליי של חודש/חודשים עד שמרגישים את ההשפעה - אם בכלל?)\n",
    "\n",
    "4. Calculate the rolling past 3-month average of the exchange rate for each data time, and add it as a new column.\n",
    "\n",
    "5. Identify any periods where both US and Israeli interest rates were decreasing, and analyze how the exchange rate behaved during those periods."
   ]
  },
  {
   "cell_type": "code",
   "execution_count": 74,
   "id": "471c7c0c-1eea-4370-98ee-a2c8f0cb3121",
   "metadata": {},
   "outputs": [
    {
     "name": "stdout",
     "output_type": "stream",
     "text": [
      "Mmonths with the same direction of change (US rate - exchange rate): 2928\n",
      "Mmonths with opposite direction changes (US rate - exchange rate): 4562\n",
      "Total number of months with changes: 7490\n"
     ]
    }
   ],
   "source": [
    "# C - 1\n",
    "merged_full_df['US_Rate_Change_Sign'] = merged_full_df['Change_From_Last_Month_US'].apply(\n",
    "    lambda x: 'Increase' if x > 0 else 'Decrease' if x < 0 else 'No Change'\n",
    ")\n",
    "merged_full_df['Exchange_Rate_Change_Sign'] = merged_full_df['Change_From_Last_Month'].apply(\n",
    "    lambda x: 'Increase' if x > 0 else 'Decrease' if x < 0 else 'No Change'\n",
    ")\n",
    "\n",
    "merged_full_df['Change_Comparison'] = merged_full_df.apply(\n",
    "    lambda row: 'Same' if row['US_Rate_Change_Sign'] == row['Exchange_Rate_Change_Sign'] else 'Opposite', axis=1\n",
    ")\n",
    "\n",
    "same_direction_count = merged_full_df[merged_full_df['Change_Comparison'] == 'Same'].shape[0]\n",
    "opposite_direction_count = merged_full_df[merged_full_df['Change_Comparison'] == 'Opposite'].shape[0]\n",
    "total_changes = same_direction_count + opposite_direction_count\n",
    "\n",
    "print(\"Mmonths with the same direction of change (US rate - exchange rate):\", same_direction_count)\n",
    "print(\"Mmonths with opposite direction changes (US rate - exchange rate):\", opposite_direction_count)\n",
    "print(\"Total number of months with changes:\", total_changes)"
   ]
  },
  {
   "cell_type": "code",
   "execution_count": 78,
   "id": "cdb61f44-6fa5-4b50-b024-c92194667717",
   "metadata": {},
   "outputs": [
    {
     "name": "stdout",
     "output_type": "stream",
     "text": [
      "Correlation between changes in Israeli interest rate and exchange rate: 0.009141675928828308\n",
      "Correlation between changes in US interest rate and exchange rate: 0.008532743456367268\n",
      "\n",
      "The stronger impact on the exchange rate is from: Israeli interest rate\n"
     ]
    }
   ],
   "source": [
    "# C - 2 \n",
    "il_exchange_correlation = merged_full_df['Change_From_Last_Month_IL'].corr(merged_full_df['Change_From_Last_Month'])\n",
    "us_exchange_correlation = merged_full_df['Change_From_Last_Month_US'].corr(merged_full_df['Change_From_Last_Month'])\n",
    "\n",
    "print(\"Correlation between changes in Israeli interest rate and exchange rate:\", il_exchange_correlation)\n",
    "print(\"Correlation between changes in US interest rate and exchange rate:\", us_exchange_correlation)\n",
    "\n",
    "stronger_impact = \"Israeli interest rate\" if il_exchange_correlation > us_exchange_correlation else \"US interest rate\"\n",
    "print(\"\\nThe stronger impact on the exchange rate is from:\", stronger_impact)"
   ]
  },
  {
   "cell_type": "code",
   "execution_count": 80,
   "id": "30307044-adc2-48c2-af3e-f305d9ef4c74",
   "metadata": {},
   "outputs": [
    {
     "name": "stdout",
     "output_type": "stream",
     "text": [
      "Correlation with 1-month lag in US interest rate change and exchange rate: 0.00727229123803141\n",
      "Correlation with 1-month lag in Israeli interest rate change and exchange rate: 0.014378349635134478\n"
     ]
    }
   ],
   "source": [
    "# C - 3\n",
    "merged_full_df['US_Change_Lagged_1'] = merged_full_df['Change_From_Last_Month_US'].shift(1)\n",
    "\n",
    "lagged_1_month_correlation = merged_full_df['US_Change_Lagged_1'].corr(merged_full_df['Change_From_Last_Month'])\n",
    "\n",
    "print(\"Correlation with 1-month lag in US interest rate change and exchange rate:\", lagged_1_month_correlation)\n",
    "\n",
    "merged_full_df['IL_Change_Lagged_1'] = merged_full_df['Change_From_Last_Month_IL'].shift(1)\n",
    "lagged_1_month_correlation_il = merged_full_df['IL_Change_Lagged_1'].corr(merged_full_df['Change_From_Last_Month'])\n",
    "\n",
    "print(\"Correlation with 1-month lag in Israeli interest rate change and exchange rate:\", lagged_1_month_correlation_il)\n"
   ]
  },
  {
   "cell_type": "code",
   "execution_count": 81,
   "id": "2d79ed24-a3e2-4917-bc24-8549ee6b66a4",
   "metadata": {},
   "outputs": [
    {
     "name": "stdout",
     "output_type": "stream",
     "text": [
      "Merged DataFrame with Rolling 3-Month Average of the exchange rate added:\n",
      "   Year  Month  Current_Rate  Rolling_3_Month_Avg\n",
      "0  1994      1         2.987                  NaN\n",
      "1  1994      1         2.996                  NaN\n",
      "2  1994      1         2.996             2.993000\n",
      "3  1994      1         2.999             2.997000\n",
      "4  1994      1         2.985             2.993333\n",
      "5  1994      1         2.987             2.990333\n",
      "6  1994      1         2.989             2.987000\n",
      "7  1994      1         2.979             2.985000\n",
      "8  1994      1         2.979             2.982333\n",
      "9  1994      1         2.983             2.980333\n"
     ]
    }
   ],
   "source": [
    "# 4\n",
    "merged_full_df['Rolling_3_Month_Avg'] = merged_full_df['Current_Rate'].rolling(window=3).mean()\n",
    "\n",
    "print(\"Merged DataFrame with Rolling 3-Month Average of the exchange rate added:\")\n",
    "print(merged_full_df[['Year', 'Month', 'Current_Rate', 'Rolling_3_Month_Avg']].head(10))"
   ]
  },
  {
   "cell_type": "code",
   "execution_count": 92,
   "id": "6b595fd8-75da-4380-968a-39e2898594b6",
   "metadata": {},
   "outputs": [
    {
     "name": "stdout",
     "output_type": "stream",
     "text": [
      "Summary of exchange rate behavior:\n",
      "Change_From_Last_Month\n",
      "Decrease    582\n",
      "Increase    555\n",
      "Stable       90\n",
      "Name: count, dtype: int64\n"
     ]
    }
   ],
   "source": [
    "# C - 5\n",
    "periods_decreasing = merged_full_df[\n",
    "    (merged_full_df['Change_From_Last_Month_US'] < 0) & \n",
    "    (merged_full_df['Change_From_Last_Month_IL'] < 0)\n",
    "]\n",
    "\n",
    "exchange_behavior_summary = periods_decreasing['Change_From_Last_Month'].apply(\n",
    "    lambda x: 'Increase' if x > 0 else 'Decrease' if x < 0 else 'Stable'\n",
    ").value_counts()\n",
    "\n",
    "print(\"Summary of exchange rate behavior:\")\n",
    "print(exchange_behavior_summary)"
   ]
  },
  {
   "cell_type": "code",
   "execution_count": 68,
   "id": "706a690fd803211c",
   "metadata": {},
   "outputs": [],
   "source": [
    "# Bonus "
   ]
  },
  {
   "cell_type": "markdown",
   "id": "8be22debf92d8f3a",
   "metadata": {},
   "source": [
    "# Bonus\n",
    "choose 3 global / local events or periods that you think could have affected the exchange rate or interest rates\n",
    "and analyze the effect of these events on the data you collected.\n",
    "show proof of your analysis that supports your claim.\n",
    "\n",
    "(כלומר- תבחנו אירועים שקרו בתקופה שאתם עובדים עליה ובדקו איך הם השפיעו על הנתונים שאתם עובדים איתם)\n",
    "למשל: בחירות בארה״ב, בחירות בישראל, רוסיה אוקראינה, מלחמות בישראל וכו׳."
   ]
  },
  {
   "cell_type": "code",
   "execution_count": 98,
   "id": "7cd992b43f3700e8",
   "metadata": {},
   "outputs": [
    {
     "name": "stdout",
     "output_type": "stream",
     "text": [
      "      Year  Month  Current_Rate_US  Current_Rate_IL  Current_Rate\n",
      "6508  2020      1             1.55             1.75         3.448\n",
      "6509  2020      1             1.55             1.75         3.450\n",
      "6510  2020      1             1.55             1.75         3.458\n",
      "6511  2020      1             1.55             1.75         3.455\n",
      "6512  2020      1             1.55             1.75         3.458\n",
      "Summary of US interest rate changes during the COVID-19 period:\n",
      "count    492.000000\n",
      "mean      -0.052581\n",
      "std        0.206337\n",
      "min       -0.930000\n",
      "25%       -0.010000\n",
      "50%        0.000000\n",
      "75%        0.010000\n",
      "max        0.030000\n",
      "Name: Change_From_Last_Month_US, dtype: float64\n",
      "\n",
      "Summary of Israeli interest rate changes during the COVID-19 period:\n",
      "count    492.000000\n",
      "mean      -0.005061\n",
      "std        0.020195\n",
      "min       -0.105000\n",
      "25%        0.000000\n",
      "50%        0.000000\n",
      "75%        0.000000\n",
      "max        0.000000\n",
      "Name: Change_From_Last_Month_IL, dtype: float64\n",
      "\n",
      "Summary of exchange rate changes during the COVID-19 period:\n",
      "count    492.000000\n",
      "mean       0.000732\n",
      "std        0.018719\n",
      "min       -0.134000\n",
      "25%       -0.005250\n",
      "50%        0.002000\n",
      "75%        0.009000\n",
      "max        0.144000\n",
      "Name: Change_From_Last_Month, dtype: float64\n"
     ]
    }
   ],
   "source": [
    "# Your code here\n",
    "# Filter data for the COVID-19 period (2020-2021)\n",
    "covid_period_df = merged_full_df[(merged_full_df['Year'] >= 2020) & (merged_full_df['Year'] <= 2021)]\n",
    "\n",
    "# Analyze the change in US and Israeli interest rates and exchange rate during this period\n",
    "covid_us_rate_change = covid_period_df['Change_From_Last_Month_US'].describe()\n",
    "covid_il_rate_change = covid_period_df['Change_From_Last_Month_IL'].describe()\n",
    "covid_exchange_rate_change = covid_period_df['Change_From_Last_Month'].describe()\n",
    "\n",
    "\n",
    "print(covid_period_df[['Year', 'Month', 'Current_Rate_US', 'Current_Rate_IL', 'Current_Rate']].head())\n",
    "\n",
    "print(\"Summary of US interest rate changes during the COVID-19 period:\")\n",
    "print(covid_us_rate_change)\n",
    "\n",
    "print(\"\\nSummary of Israeli interest rate changes during the COVID-19 period:\")\n",
    "print(covid_il_rate_change)\n",
    "\n",
    "print(\"\\nSummary of exchange rate changes during the COVID-19 period:\")\n",
    "print(covid_exchange_rate_change)"
   ]
  }
 ],
 "metadata": {
  "kernelspec": {
   "display_name": "Python 3 (ipykernel)",
   "language": "python",
   "name": "python3"
  },
  "language_info": {
   "codemirror_mode": {
    "name": "ipython",
    "version": 3
   },
   "file_extension": ".py",
   "mimetype": "text/x-python",
   "name": "python",
   "nbconvert_exporter": "python",
   "pygments_lexer": "ipython3",
   "version": "3.11.6"
  }
 },
 "nbformat": 4,
 "nbformat_minor": 5
}
